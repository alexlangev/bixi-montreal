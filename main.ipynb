{
 "cells": [
  {
   "cell_type": "markdown",
   "metadata": {},
   "source": [
    "# Bike Montreal data science (Daily user predicton)"
   ]
  },
  {
   "cell_type": "markdown",
   "metadata": {},
   "source": [
    "**Diclaimer**: If anyone is reading this, please note that this project is my first data science project. It is my first time using Jupyter notebooks, pandas, SQL and many other things. I have also deliberately decided to not follow a similar project as an example because I feared I would simply copy the work and not learn as much in consequence.  This means that this project will **not** follow best practices in the industry or even correct usage of tools and libraries. My goal was to blindly jump into a project and learn as I go."
   ]
  },
  {
   "cell_type": "markdown",
   "metadata": {},
   "source": [
    "## Objective\n",
    "\n",
    "[Bixi](https://bixi.com/en) is Montreal's public bike share program. It has been in service since 2014 and now has close to 800 stations with close to 10000 bikes in the network. \n",
    "\n",
    "In a previous project where I first learned Python and webscrapping, I scrapped Bixi's open data since 2014 and the historical daily weather of Montreal. \n",
    "\n",
    "In this project, I will attempt to predict the daily usage of Bixi bikes based on the different trends and weather condition."
   ]
  },
  {
   "cell_type": "markdown",
   "metadata": {},
   "source": [
    "## Sections (TODO)"
   ]
  },
  {
   "cell_type": "code",
   "execution_count": 109,
   "metadata": {},
   "outputs": [],
   "source": [
    "import helpers\n",
    "import datetime\n",
    "import pandas as pd\n",
    "from dateutil.relativedelta import relativedelta\n",
    "\n",
    "BIXI_TABLE_ID = 'bixi-montreal.bixi.all-rides'\n",
    "WEATHER_TABLE_ID = 'bixi-montreal.bixi.mtl-weather'\n",
    "\n"
   ]
  },
  {
   "cell_type": "markdown",
   "metadata": {},
   "source": [
    "## Creating our dataframe\n",
    "\n",
    "Let's query from **gbq** the first and last day of bixi and weather data and see if there is any weather data missing."
   ]
  },
  {
   "cell_type": "code",
   "execution_count": 110,
   "metadata": {},
   "outputs": [
    {
     "name": "stdout",
     "output_type": "stream",
     "text": [
      "You have all the weather data you needed!\n"
     ]
    }
   ],
   "source": [
    "first_day_bixi = helpers.get_min_value(BIXI_TABLE_ID, 'start_date')\n",
    "last_day_bixi = helpers.get_max_value(BIXI_TABLE_ID, 'start_date')\n",
    "first_day_weather = helpers.get_min_value(WEATHER_TABLE_ID, 'DATE')\n",
    "last_day_weather = helpers.get_max_value(WEATHER_TABLE_ID, 'DATE')\n",
    "\n",
    "enough_min = first_day_weather <= first_day_bixi\n",
    "enough_max = last_day_weather >= last_day_bixi\n",
    "\n",
    "if enough_min != True and enough_max != True:\n",
    "  print(f'Need weather data since {first_day_bixi} and until {last_day_bixi}')\n",
    "elif enough_min != True:\n",
    "  print(f'Need weather data since {first_day_bixi}')\n",
    "elif enough_max != True:\n",
    "  print(f'Need weather data until {last_day_bixi}')\n",
    "else:\n",
    "  print('You have all the weather data you needed!')"
   ]
  },
  {
   "cell_type": "markdown",
   "metadata": {},
   "source": [
    "Create our main dataframe called main_df"
   ]
  },
  {
   "cell_type": "code",
   "execution_count": 111,
   "metadata": {},
   "outputs": [],
   "source": [
    "# create empty dataframe\n",
    "main_df = pd.DataFrame(columns=('DATE', 'DAILY_COUNT', 'MEAN_TEMP', 'TOTAL_RAIN', 'TOTAL_SNOW'))\n"
   ]
  },
  {
   "cell_type": "code",
   "execution_count": 112,
   "metadata": {},
   "outputs": [],
   "source": [
    "first_day_bixi = helpers.get_min_value(BIXI_TABLE_ID, 'start_date')\n",
    "last_day_bixi = helpers.get_max_value(BIXI_TABLE_ID, 'start_date')\n",
    "\n",
    "start_date = datetime.date(first_day_bixi.year, first_day_bixi.month, first_day_bixi.day)\n",
    "end_date = datetime.date(last_day_bixi.year, last_day_bixi.month, last_day_bixi.day)\n",
    "\n",
    "daily_weather_df = helpers.get_weather_data(start_date, end_date)"
   ]
  },
  {
   "cell_type": "code",
   "execution_count": null,
   "metadata": {},
   "outputs": [],
   "source": [
    "# Loop through each day and concat date, daily bixi count, all weather variables to the main dataframe.\n",
    "increment_date = start_date\n",
    "\n",
    "while(end_date >= increment_date):\n",
    "  temp_daily_weather_df = daily_weather_df.loc[pd.to_datetime(daily_weather_df['DATE']).dt.date == increment_date]\n",
    "  daily_count = helpers.get_daily_count(increment_date)['f0_'][0] \n",
    "  temp_df =  pd.DataFrame(data = {\n",
    "  'DATE': [increment_date], \n",
    "  'DAILY_COUNT': [daily_count], \n",
    "  'MEAN_TEMP': [temp_daily_weather_df['MEAN_TEMP'].iloc[0]],\n",
    "  'TOTAL_RAIN': [temp_daily_weather_df['TOTAL_RAIN'].iloc[0]],\n",
    "  'TOTAL_SNOW': [temp_daily_weather_df['TOTAL_SNOW'].iloc[0]],\n",
    "  })\n",
    "\n",
    "  main_df = pd.concat([main_df, temp_df])\n",
    "  print(main_df.tail(1))\n",
    "  increment_date += relativedelta(days=1)\n",
    "\n",
    "print(main_df.shape)"
   ]
  },
  {
   "cell_type": "code",
   "execution_count": 124,
   "metadata": {},
   "outputs": [
    {
     "data": {
      "text/plain": [
       "0    2022-05-27\n",
       "0    2022-05-28\n",
       "0    2022-05-29\n",
       "0    2022-05-30\n",
       "0    2022-05-31\n",
       "Name: DATE, dtype: object"
      ]
     },
     "execution_count": 124,
     "metadata": {},
     "output_type": "execute_result"
    }
   ],
   "source": [
    "main_df['DATE'].tail()"
   ]
  },
  {
   "cell_type": "code",
   "execution_count": null,
   "metadata": {},
   "outputs": [],
   "source": [
    " "
   ]
  }
 ],
 "metadata": {
  "kernelspec": {
   "display_name": "Python 3.10.5 ('.venv': venv)",
   "language": "python",
   "name": "python3"
  },
  "language_info": {
   "codemirror_mode": {
    "name": "ipython",
    "version": 3
   },
   "file_extension": ".py",
   "mimetype": "text/x-python",
   "name": "python",
   "nbconvert_exporter": "python",
   "pygments_lexer": "ipython3",
   "version": "3.10.5"
  },
  "orig_nbformat": 4,
  "vscode": {
   "interpreter": {
    "hash": "721ed523dc3a63d8067f9cced37c7f39838a7b1c5a08b77ec9ef1ad1b9898356"
   }
  }
 },
 "nbformat": 4,
 "nbformat_minor": 2
}
